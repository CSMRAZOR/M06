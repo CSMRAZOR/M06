{
 "cells": [
  {
   "cell_type": "code",
   "execution_count": 14,
   "metadata": {},
   "outputs": [
    {
     "data": {
      "text/plain": [
       "datetime.date(2024, 4, 25)"
      ]
     },
     "execution_count": 14,
     "metadata": {},
     "output_type": "execute_result"
    }
   ],
   "source": [
    "# Owen Mills 4/24/2024\n",
    "#M06 Programming Assignment -Concurrency in Python\n",
    "\n",
    "#13.1\n",
    "from datetime import date, datetime\n",
    "\n",
    "current_date = date.today()\n",
    "\n",
    "with open('today.txt', 'w') as file:\n",
    "    file.write(current_date.isoformat())\n",
    "\n",
    "current_date"
   ]
  },
  {
   "cell_type": "code",
   "execution_count": 15,
   "metadata": {},
   "outputs": [
    {
     "data": {
      "text/plain": [
       "'2024-04-25'"
      ]
     },
     "execution_count": 15,
     "metadata": {},
     "output_type": "execute_result"
    }
   ],
   "source": [
    "# 13.2\n",
    "with open('today.txt', 'r') as file:\n",
    "    today_string = file.read()\n",
    "\n",
    "today_string"
   ]
  },
  {
   "cell_type": "code",
   "execution_count": 16,
   "metadata": {},
   "outputs": [
    {
     "data": {
      "text/plain": [
       "datetime.date(2024, 4, 25)"
      ]
     },
     "execution_count": 16,
     "metadata": {},
     "output_type": "execute_result"
    }
   ],
   "source": [
    "# 13.3\n",
    "from datetime import datetime\n",
    "\n",
    "parsed_date = datetime.strptime(today_string, '%Y-%m-%d').date()\n",
    "\n",
    "parsed_date\n"
   ]
  },
  {
   "cell_type": "code",
   "execution_count": 22,
   "metadata": {},
   "outputs": [
    {
     "name": "stdout",
     "output_type": "stream",
     "text": [
      "Process 36468 says: The current time is 14:54:04\n"
     ]
    }
   ],
   "source": [
    "# 15.1\n",
    "import multiprocessing\n",
    "import os\n",
    "import time\n",
    "import random\n",
    "\n",
    "# Function for printing the time\n",
    "def print_time():\n",
    "    current_time = time.strftime('%H:%M:%S')\n",
    "    print(\"Process %s says: The current time is %s\" % (os.getpid(), current_time))\n",
    "\n",
    "# Function to wait for a random time\n",
    "def wait_print():\n",
    "    wait_time = random.random()\n",
    "    time.sleep(wait_time)\n",
    "    print_time()\n",
    "\n",
    "if __name__ == \"__main__\":\n",
    "\n",
    "    # Print the time and make 3 different processes\n",
    "    print_time()  \n",
    "    for _ in range(2):  \n",
    "        p = multiprocessing.Process(target=wait_print)\n",
    "        p.start()\n"
   ]
  }
 ],
 "metadata": {
  "kernelspec": {
   "display_name": "Python 3",
   "language": "python",
   "name": "python3"
  },
  "language_info": {
   "codemirror_mode": {
    "name": "ipython",
    "version": 3
   },
   "file_extension": ".py",
   "mimetype": "text/x-python",
   "name": "python",
   "nbconvert_exporter": "python",
   "pygments_lexer": "ipython3",
   "version": "3.11.9"
  }
 },
 "nbformat": 4,
 "nbformat_minor": 2
}
